{
 "cells": [
  {
   "cell_type": "code",
   "execution_count": null,
   "id": "983592d8-183d-4df2-a46d-c1b7b36a7ef2",
   "metadata": {},
   "outputs": [],
   "source": [
    "# Lookalike Model\n",
    "This notebook builds a lookalike model to recommend similar customers based on profile and transaction history.\n"
   ]
  },
  {
   "cell_type": "code",
   "execution_count": null,
   "id": "2d0cbaf9-d3ab-45af-8bb6-1464259a6e39",
   "metadata": {},
   "outputs": [],
   "source": [
    "import pandas as pd\n",
    "from sklearn. metrics.pairwise import cosine_similarity\n",
    "from sklearn.preprocessing import StandardScaler\n",
    "\n",
    "# Load data\n",
    "customers = pd.read_csv('Customers.CSV)\n",
    "transactions = pd.read_csv('Transactions.CSV)\n",
    "\n",
    "# Create Customer-Transaction Features\n",
    "def build_customer_features():\n",
    "    customer_transactions = transactions.group by('CustomerID').agg({\n",
    "        'TotalValue': 'sum',\n",
    "        'Quantity': 'sum',\n",
    "    }).reset_index()\n",
    "    merged = pd.merge(customers, customer_transactions, on='CustomerID', how='left')\n",
    "    merged.fill(0, inplace=True)\n",
    "    return merged\n",
    "\n",
    "# Build Lookalike Model\n",
    "def lookalike_model(customer_data):\n",
    "    features = customer_data[['TotalValue', 'Quantity']].values\n",
    "    scaler = StandardScaler()\n",
    "    scaled_features = scaler.fit_transform(features)\n",
    "\n",
    "    similarity_matrix = cosine_similarity(scaled_features)\n",
    "    lookalikes = {}\n",
    "\n",
    "    for idx, customer_id in enumerate(customer_data['CustomerID'][:20]):\n",
    "        scores = [(customer_data['CustomerID'][i], similarity_matrix[idx][i]) for i in range(len(similarity_matrix))]\n",
    "        scores = sorted(scores, key=lambda x: x[1], reverse=True)[1:4]\n",
    "        lookalikes[customer_id] = scores\n",
    "\n",
    "    return lookalikes\n",
    "\n",
    "# Main Execution\n",
    "if __name__ == \"__main__\":\n",
    "    customer_data = build_customer_features()\n",
    "    lookalikes = lookalike_model(customer_data)\n",
    "    lookalike_df = pd.DataFrame([\n",
    "        {\"CustomerID\": cust_id, \"Lookalikes\": str(lookalike)} for cust_id, lookalike in lookalikes.items()\n",
    "    ])\n",
    "    lookalike_df.to_csv('./outputs/Lookalike.csv', index=False)\n",
    "    print(\"Lookalike Model Completed. Results saved in './outputs/Lookalike.csv'\")"
   ]
  }
 ],
 "metadata": {
  "kernelspec": {
   "display_name": "Python 3 (ipykernel)",
   "language": "python",
   "name": "python3"
  },
  "language_info": {
   "codemirror_mode": {
    "name": "ipython",
    "version": 3
   },
   "file_extension": ".py",
   "mimetype": "text/x-python",
   "name": "python",
   "nbconvert_exporter": "python",
   "pygments_lexer": "ipython3",
   "version": "3.13.1"
  }
 },
 "nbformat": 4,
 "nbformat_minor": 5
}
