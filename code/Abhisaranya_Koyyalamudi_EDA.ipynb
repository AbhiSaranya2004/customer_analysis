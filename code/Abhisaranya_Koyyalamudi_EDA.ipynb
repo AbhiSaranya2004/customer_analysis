{
 "cells": [
  {
   "cell_type": "code",
   "execution_count": null,
   "id": "11db11b2-0b83-405c-b306-054e0ec807b6",
   "metadata": {},
   "outputs": [],
   "source": [
    "# Exploratory Data Analysis (EDA)\n",
    "This notebook performs exploratory data analysis on the given datasets and derives business insights.\n"
   ]
  },
  {
   "cell_type": "code",
   "execution_count": null,
   "id": "c72fcf8f-4357-443c-a13e-6ceb8dc35431",
   "metadata": {},
   "outputs": [],
   "source": [
    "import os\n",
    "\n",
    "def perform_eda():\n",
    "    # Ensure the reports directory exists\n",
    "    if not os.path.exists('./reports'):\n",
    "        os.makedirs('./reports')\n",
    "\n",
    "    # Rest of your EDA code\n",
    "import pandas as pd\n",
    "import matplotlib.pyplot as plt\n",
    "import seaborn as sns\n",
    "\n",
    "# Load data\n",
    "customers = pd.read_csv('Customers.csv')\n",
    "products = pd.read_csv('Products.csv')\n",
    "transactions = pd.read_csv('Transactions.csv')\n",
    "\n",
    "# Exploratory Data Analysis\n",
    "def perform_eda():\n",
    "    # Customers Summary\n",
    "    print(\"Customer Data Overview:\")\n",
    "    print(customers.info())\n",
    "    print(customers.describe())\n",
    "\n",
    "    # Products Summary\n",
    "    print(\"\\nProduct Data Overview:\")\n",
    "    print(products.info())\n",
    "    print(products.describe())\n",
    "\n",
    "    # Transactions Summary\n",
    "    print(\"\\nTransaction Data Overview:\")\n",
    "    print(transactions.info())\n",
    "    print(transactions.describe())\n",
    "\n",
    "    # Null Value Checks\n",
    "    print(\"\\nMissing Values:\")\n",
    "    print(\"Customers:\", customers.isnull().sum())\n",
    "    print(\"Products:\", products.isnull().sum())\n",
    "    print(\"Transactions:\", transactions.isnull().sum())\n",
    "\n",
    "    # Basic Visualizations\n",
    "    plt.figure(figsize=(10, 6))\n",
    "    sns.countplot(data=customers, x='Region', palette='viridis')\n",
    "    plt.title(\"Customer Distribution by Region\")\n",
    "    plt.savefig(\"./reports/customer_region_distribution.png\")\n",
    "    plt.close()\n",
    "\n",
    "    plt.figure(figsize=(10, 6))\n",
    "    sns.countplot(data=products, x='Category', palette='muted')\n",
    "    plt.title(\"Product Distribution by Category\")\n",
    "    plt.savefig(\"./reports/product_category_distribution.png\")\n",
    "    plt.close()\n",
    "\n",
    "    print(\"EDA Completed. Visualizations saved in './reports/'\")\n",
    "\n",
    "# Main Execution\n",
    "if __name__ == \"__main__\":\n",
    "    perform_eda()"
   ]
  }
 ],
 "metadata": {
  "kernelspec": {
   "display_name": "Python 3 (ipykernel)",
   "language": "python",
   "name": "python3"
  },
  "language_info": {
   "codemirror_mode": {
    "name": "ipython",
    "version": 3
   },
   "file_extension": ".py",
   "mimetype": "text/x-python",
   "name": "python",
   "nbconvert_exporter": "python",
   "pygments_lexer": "ipython3",
   "version": "3.13.1"
  }
 },
 "nbformat": 4,
 "nbformat_minor": 5
}
